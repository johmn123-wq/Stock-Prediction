{
 "cells": [
  {
   "cell_type": "markdown",
   "metadata": {
    "id": "Tt9Gv6ZMolnR"
   },
   "source": [
    "# Install Libraries"
   ]
  },
  {
   "cell_type": "code",
   "execution_count": 5,
   "metadata": {
    "colab": {
     "base_uri": "https://localhost:8080/"
    },
    "id": "4u9gBZyef_uk",
    "outputId": "021a2558-062e-4e2e-af50-a0189d21014d"
   },
   "outputs": [
    {
     "name": "stdout",
     "output_type": "stream",
     "text": [
      "Requirement already satisfied: yfinance in c:\\users\\ritik\\appdata\\local\\programs\\python\\python38\\lib\\site-packages (0.1.63)"
     ]
    },
    {
     "name": "stderr",
     "output_type": "stream",
     "text": [
      "WARNING: You are using pip version 21.2.3; however, version 21.2.4 is available.\n",
      "You should consider upgrading via the 'c:\\users\\ritik\\appdata\\local\\programs\\python\\python38\\python.exe -m pip install --upgrade pip' command.\n"
     ]
    },
    {
     "name": "stdout",
     "output_type": "stream",
     "text": [
      "\n",
      "Requirement already satisfied: pandas>=0.24 in c:\\users\\ritik\\appdata\\local\\programs\\python\\python38\\lib\\site-packages (from yfinance) (1.1.1)\n",
      "Requirement already satisfied: requests>=2.20 in c:\\users\\ritik\\appdata\\local\\programs\\python\\python38\\lib\\site-packages (from yfinance) (2.25.1)\n",
      "Requirement already satisfied: multitasking>=0.0.7 in c:\\users\\ritik\\appdata\\local\\programs\\python\\python38\\lib\\site-packages (from yfinance) (0.0.9)\n",
      "Requirement already satisfied: numpy>=1.15 in c:\\users\\ritik\\appdata\\local\\programs\\python\\python38\\lib\\site-packages (from yfinance) (1.19.5)\n",
      "Requirement already satisfied: lxml>=4.5.1 in c:\\users\\ritik\\appdata\\local\\programs\\python\\python38\\lib\\site-packages (from yfinance) (4.6.3)\n",
      "Requirement already satisfied: pytz>=2017.2 in c:\\users\\ritik\\appdata\\local\\programs\\python\\python38\\lib\\site-packages (from pandas>=0.24->yfinance) (2020.1)\n",
      "Requirement already satisfied: python-dateutil>=2.7.3 in c:\\users\\ritik\\appdata\\local\\programs\\python\\python38\\lib\\site-packages (from pandas>=0.24->yfinance) (2.8.1)\n",
      "Requirement already satisfied: six>=1.5 in c:\\users\\ritik\\appdata\\local\\programs\\python\\python38\\lib\\site-packages (from python-dateutil>=2.7.3->pandas>=0.24->yfinance) (1.15.0)\n",
      "Requirement already satisfied: certifi>=2017.4.17 in c:\\users\\ritik\\appdata\\local\\programs\\python\\python38\\lib\\site-packages (from requests>=2.20->yfinance) (2020.6.20)\n",
      "Requirement already satisfied: urllib3<1.27,>=1.21.1 in c:\\users\\ritik\\appdata\\local\\programs\\python\\python38\\lib\\site-packages (from requests>=2.20->yfinance) (1.26.3)\n",
      "Requirement already satisfied: idna<3,>=2.5 in c:\\users\\ritik\\appdata\\local\\programs\\python\\python38\\lib\\site-packages (from requests>=2.20->yfinance) (2.10)\n",
      "Requirement already satisfied: chardet<5,>=3.0.2 in c:\\users\\ritik\\appdata\\local\\programs\\python\\python38\\lib\\site-packages (from requests>=2.20->yfinance) (4.0.0)\n"
     ]
    }
   ],
   "source": [
    "import numpy as np\n",
    "import pandas as pd\n",
    "import matplotlib.pyplot as plt\n",
    "import seaborn as sns\n",
    "sns.set()\n",
    "!pip install yfinance --upgrade --no-cache-dir\n",
    "# from pandas_datareader import data as pdr\n",
    "# import fix_yahoo_finance as yf\n",
    "from collections import deque\n",
    "import random\n",
    "import tensorflow.compat.v1 as tf\n",
    "tf.compat.v1.disable_eager_execution()"
   ]
  },
  {
   "cell_type": "markdown",
   "metadata": {
    "id": "anoNiYaDojWf"
   },
   "source": [
    "# Fetch the data"
   ]
  },
  {
   "cell_type": "code",
   "execution_count": 6,
   "metadata": {
    "colab": {
     "base_uri": "https://localhost:8080/",
     "height": 206
    },
    "id": "1E5rcajZgTh-",
    "outputId": "28b5d74c-95ee-4615-d095-83f2a087cd34"
   },
   "outputs": [
    {
     "data": {
      "text/html": [
       "<div>\n",
       "<style scoped>\n",
       "    .dataframe tbody tr th:only-of-type {\n",
       "        vertical-align: middle;\n",
       "    }\n",
       "\n",
       "    .dataframe tbody tr th {\n",
       "        vertical-align: top;\n",
       "    }\n",
       "\n",
       "    .dataframe thead th {\n",
       "        text-align: right;\n",
       "    }\n",
       "</style>\n",
       "<table border=\"1\" class=\"dataframe\">\n",
       "  <thead>\n",
       "    <tr style=\"text-align: right;\">\n",
       "      <th></th>\n",
       "      <th>Date</th>\n",
       "      <th>Open</th>\n",
       "      <th>High</th>\n",
       "      <th>Low</th>\n",
       "      <th>Close</th>\n",
       "      <th>Adj Close</th>\n",
       "      <th>Volume</th>\n",
       "    </tr>\n",
       "  </thead>\n",
       "  <tbody>\n",
       "    <tr>\n",
       "      <th>0</th>\n",
       "      <td>10/1/2020</td>\n",
       "      <td>13.84</td>\n",
       "      <td>13.90</td>\n",
       "      <td>13.71</td>\n",
       "      <td>13.76</td>\n",
       "      <td>13.472431</td>\n",
       "      <td>5418500</td>\n",
       "    </tr>\n",
       "    <tr>\n",
       "      <th>1</th>\n",
       "      <td>10/2/2020</td>\n",
       "      <td>13.69</td>\n",
       "      <td>13.74</td>\n",
       "      <td>13.57</td>\n",
       "      <td>13.67</td>\n",
       "      <td>13.384312</td>\n",
       "      <td>7740400</td>\n",
       "    </tr>\n",
       "    <tr>\n",
       "      <th>2</th>\n",
       "      <td>10/5/2020</td>\n",
       "      <td>14.17</td>\n",
       "      <td>14.20</td>\n",
       "      <td>14.02</td>\n",
       "      <td>14.05</td>\n",
       "      <td>13.756370</td>\n",
       "      <td>10194400</td>\n",
       "    </tr>\n",
       "    <tr>\n",
       "      <th>3</th>\n",
       "      <td>10/6/2020</td>\n",
       "      <td>14.14</td>\n",
       "      <td>14.19</td>\n",
       "      <td>13.89</td>\n",
       "      <td>13.89</td>\n",
       "      <td>13.599713</td>\n",
       "      <td>11187800</td>\n",
       "    </tr>\n",
       "    <tr>\n",
       "      <th>4</th>\n",
       "      <td>10/7/2020</td>\n",
       "      <td>14.31</td>\n",
       "      <td>14.58</td>\n",
       "      <td>14.29</td>\n",
       "      <td>14.54</td>\n",
       "      <td>14.236129</td>\n",
       "      <td>18332700</td>\n",
       "    </tr>\n",
       "  </tbody>\n",
       "</table>\n",
       "</div>"
      ],
      "text/plain": [
       "        Date   Open   High    Low  Close  Adj Close    Volume\n",
       "0  10/1/2020  13.84  13.90  13.71  13.76  13.472431   5418500\n",
       "1  10/2/2020  13.69  13.74  13.57  13.67  13.384312   7740400\n",
       "2  10/5/2020  14.17  14.20  14.02  14.05  13.756370  10194400\n",
       "3  10/6/2020  14.14  14.19  13.89  13.89  13.599713  11187800\n",
       "4  10/7/2020  14.31  14.58  14.29  14.54  14.236129  18332700"
      ]
     },
     "execution_count": 6,
     "metadata": {},
     "output_type": "execute_result"
    }
   ],
   "source": [
    "df_full = pd.read_csv(\"https://raw.githubusercontent.com/johmn123-wq/Stock-Prediction/main/INFY.csv\")\n",
    "df_full.head()"
   ]
  },
  {
   "cell_type": "markdown",
   "metadata": {
    "id": "wlZwUhOKozV_"
   },
   "source": [
    "# Define the Q learning agent"
   ]
  },
  {
   "cell_type": "code",
   "execution_count": 7,
   "metadata": {
    "id": "zBVyWpUIl27i"
   },
   "outputs": [],
   "source": [
    "df= df_full.copy()\n",
    "name = 'Q-learning agent'\n",
    "class Agent:\n",
    "    def __init__(self, state_size, window_size, trend, skip, batch_size):\n",
    "        self.state_size = state_size\n",
    "        self.window_size = window_size\n",
    "        self.half_window = window_size // 2\n",
    "        self.trend = trend\n",
    "        self.skip = skip\n",
    "        self.action_size = 3\n",
    "        self.batch_size = batch_size\n",
    "        self.memory = deque(maxlen = 1000)\n",
    "        self.inventory = []\n",
    "        self.gamma = 0.95\n",
    "        self.epsilon = 0.5\n",
    "        self.epsilon_min = 0.01\n",
    "        self.epsilon_decay = 0.999\n",
    "        tf.reset_default_graph()\n",
    "        self.sess = tf.InteractiveSession()\n",
    "        self.X = tf.placeholder(tf.float32, [None, self.state_size])\n",
    "        self.Y = tf.placeholder(tf.float32, [None, self.action_size])\n",
    "        feed = tf.layers.dense(self.X, 256, activation = tf.nn.relu)\n",
    "        self.logits = tf.layers.dense(feed, self.action_size)\n",
    "        self.cost = tf.reduce_mean(tf.square(self.Y - self.logits))\n",
    "        self.optimizer = tf.train.GradientDescentOptimizer(1e-5).minimize(\n",
    "            self.cost\n",
    "        )\n",
    "        self.sess.run(tf.global_variables_initializer())\n",
    "    def act(self, state):\n",
    "        if random.random() <= self.epsilon:\n",
    "            return random.randrange(self.action_size)\n",
    "        return np.argmax(\n",
    "            self.sess.run(self.logits, feed_dict = {self.X: state})[0]\n",
    "        )\n",
    "    def get_state(self, t):\n",
    "        window_size = self.window_size + 1\n",
    "        d = t - window_size + 1\n",
    "        block = self.trend[d : t + 1] if d >= 0 else -d * [self.trend[0]] + self.trend[0 : t + 1]\n",
    "        res = []\n",
    "        for i in range(window_size - 1):\n",
    "            res.append(block[i + 1] - block[i])\n",
    "        return np.array([res])\n",
    "    def replay(self, batch_size):\n",
    "        mini_batch = []\n",
    "        l = len(self.memory)\n",
    "        for i in range(l - batch_size, l):\n",
    "            mini_batch.append(self.memory[i])\n",
    "        replay_size = len(mini_batch)\n",
    "        X = np.empty((replay_size, self.state_size))\n",
    "        Y = np.empty((replay_size, self.action_size))\n",
    "        states = np.array([a[0][0] for a in mini_batch])\n",
    "        new_states = np.array([a[3][0] for a in mini_batch])\n",
    "        Q = self.sess.run(self.logits, feed_dict = {self.X: states})\n",
    "        Q_new = self.sess.run(self.logits, feed_dict = {self.X: new_states})\n",
    "        for i in range(len(mini_batch)):\n",
    "            state, action, reward, next_state, done = mini_batch[i]\n",
    "            target = Q[i]\n",
    "            target[action] = reward\n",
    "            if not done:\n",
    "                target[action] += self.gamma * np.amax(Q_new[i])\n",
    "            X[i] = state\n",
    "            Y[i] = target\n",
    "        cost, _ = self.sess.run(\n",
    "            [self.cost, self.optimizer], feed_dict = {self.X: X, self.Y: Y}\n",
    "        )\n",
    "        if self.epsilon > self.epsilon_min:\n",
    "            self.epsilon *= self.epsilon_decay\n",
    "        return cost\n",
    "    def buy(self, initial_money):\n",
    "        starting_money = initial_money\n",
    "        states_sell = []\n",
    "        states_buy = []\n",
    "        inventory = []\n",
    "        state = self.get_state(0)\n",
    "        for t in range(0, len(self.trend) - 1, self.skip):\n",
    "            action = self.act(state)\n",
    "            next_state = self.get_state(t + 1)\n",
    "            if action == 1 and initial_money >= self.trend[t] and t < (len(self.trend) - self.half_window):\n",
    "                inventory.append(self.trend[t])\n",
    "                initial_money -= self.trend[t]\n",
    "                states_buy.append(t)\n",
    "                print('day %d: buy 1 unit at price %f, total balance %f'% (t, self.trend[t], initial_money))\n",
    "            elif action == 2 and len(inventory):\n",
    "                bought_price = inventory.pop(0)\n",
    "                initial_money += self.trend[t]\n",
    "                states_sell.append(t)\n",
    "                try:\n",
    "                    invest = ((close[t] - bought_price) / bought_price) * 100\n",
    "                except:\n",
    "                    invest = 0\n",
    "                print(\n",
    "                    'day %d, sell 1 unit at price %f, investment %f %%, total balance %f,'\n",
    "                    % (t, close[t], invest, initial_money)\n",
    "                )\n",
    "            state = next_state\n",
    "        invest = ((initial_money - starting_money) / starting_money) * 100\n",
    "        total_gains = initial_money - starting_money\n",
    "        return states_buy, states_sell, total_gains, invest\n",
    "    def train(self, iterations, checkpoint, initial_money):\n",
    "        for i in range(iterations):\n",
    "            total_profit = 0\n",
    "            inventory = []\n",
    "            state = self.get_state(0)\n",
    "            starting_money = initial_money\n",
    "            for t in range(0, len(self.trend) - 1, self.skip):\n",
    "                action = self.act(state)\n",
    "                next_state = self.get_state(t + 1)\n",
    "                if action == 1 and starting_money >= self.trend[t] and t < (len(self.trend) - self.half_window):\n",
    "                    inventory.append(self.trend[t])\n",
    "                    starting_money -= self.trend[t]\n",
    "                elif action == 2 and len(inventory) > 0:\n",
    "                    bought_price = inventory.pop(0)\n",
    "                    total_profit += self.trend[t] - bought_price\n",
    "                    starting_money += self.trend[t]\n",
    "                invest = ((starting_money - initial_money) / initial_money)\n",
    "                self.memory.append((state, action, invest, \n",
    "                                    next_state, starting_money < initial_money))\n",
    "                state = next_state\n",
    "                batch_size = min(self.batch_size, len(self.memory))\n",
    "                cost = self.replay(batch_size)\n",
    "            if (i+1) % checkpoint == 0:\n",
    "                print('epoch: %d, total rewards: %f.3, cost: %f, total money: %f'%(i + 1, total_profit, cost,\n",
    "                                                                                  starting_money))"
   ]
  },
  {
   "cell_type": "markdown",
   "metadata": {
    "id": "Z3NEbIAKpJvM"
   },
   "source": [
    "\n",
    "\n",
    "\n",
    "# Train the agent\n"
   ]
  },
  {
   "cell_type": "code",
   "execution_count": 8,
   "metadata": {
    "colab": {
     "base_uri": "https://localhost:8080/"
    },
    "id": "NNRsxgudmJvv",
    "outputId": "cec5e035-ca02-4ea9-9a6d-9c3a1613c8a6"
   },
   "outputs": [
    {
     "name": "stderr",
     "output_type": "stream",
     "text": [
      "c:\\users\\ritik\\appdata\\local\\programs\\python\\python38\\lib\\site-packages\\keras\\legacy_tf_layers\\core.py:236: UserWarning: `tf.layers.dense` is deprecated and will be removed in a future version. Please use `tf.keras.layers.Dense` instead.\n",
      "  warnings.warn('`tf.layers.dense` is deprecated and '\n",
      "c:\\users\\ritik\\appdata\\local\\programs\\python\\python38\\lib\\site-packages\\keras\\engine\\base_layer_v1.py:1676: UserWarning: `layer.apply` is deprecated and will be removed in a future version. Please use `layer.__call__` method instead.\n",
      "  warnings.warn('`layer.apply` is deprecated and '\n"
     ]
    },
    {
     "name": "stdout",
     "output_type": "stream",
     "text": [
      "epoch: 10, total rewards: 3.819996.3, cost: 0.002365, total money: 10003.819996\n",
      "epoch: 20, total rewards: 3.919995.3, cost: 0.002341, total money: 10003.919995\n",
      "epoch: 30, total rewards: 4.129995.3, cost: 0.002317, total money: 10004.129995\n",
      "epoch: 40, total rewards: 3.959995.3, cost: 0.002295, total money: 10003.959995\n",
      "epoch: 50, total rewards: 2.049995.3, cost: 0.002279, total money: 10002.049995\n",
      "epoch: 60, total rewards: 5.289996.3, cost: 0.002248, total money: 10005.289996\n",
      "epoch: 70, total rewards: 3.649997.3, cost: 0.002172, total money: 10003.649997\n",
      "epoch: 80, total rewards: 3.389994.3, cost: 0.002213, total money: 10003.389994\n",
      "epoch: 90, total rewards: 4.129994.3, cost: 0.002192, total money: 10004.129994\n",
      "epoch: 100, total rewards: 4.519994.3, cost: 0.002115, total money: 10004.519994\n",
      "epoch: 110, total rewards: 3.749996.3, cost: 0.002155, total money: 10003.749996\n",
      "epoch: 120, total rewards: 4.199992.3, cost: 0.002649, total money: 10004.199992\n",
      "epoch: 130, total rewards: 1.689994.3, cost: 0.002032, total money: 10001.689994\n",
      "epoch: 140, total rewards: 1.719995.3, cost: 0.002016, total money: 10001.719995\n",
      "epoch: 150, total rewards: 4.429994.3, cost: 0.002355, total money: 10004.429994\n",
      "epoch: 160, total rewards: 3.469993.3, cost: 0.002388, total money: 10003.469993\n",
      "epoch: 170, total rewards: 3.989995.3, cost: 0.002362, total money: 10003.989995\n",
      "epoch: 180, total rewards: 4.109994.3, cost: 0.002348, total money: 10004.109994\n",
      "epoch: 190, total rewards: 3.099994.3, cost: 0.002337, total money: 10003.099994\n",
      "epoch: 200, total rewards: 3.879996.3, cost: 0.002323, total money: 10003.879996\n"
     ]
    }
   ],
   "source": [
    "close = df.Close.values.tolist()\n",
    "initial_money = 10000\n",
    "window_size = 30\n",
    "skip = 1\n",
    "batch_size = 32\n",
    "agent = Agent(state_size = window_size, window_size = window_size, trend = close, skip = skip,  batch_size = batch_size)\n",
    "agent.train(iterations = 200, checkpoint = 10, initial_money = initial_money)"
   ]
  },
  {
   "cell_type": "markdown",
   "metadata": {
    "id": "fWxLhPhmpfMS"
   },
   "source": [
    "# Testing the agent \n"
   ]
  },
  {
   "cell_type": "code",
   "execution_count": 9,
   "metadata": {
    "colab": {
     "base_uri": "https://localhost:8080/"
    },
    "id": "knPdJbUCnv49",
    "outputId": "bf8e5c6e-a423-47c7-a138-a3725a34566a"
   },
   "outputs": [
    {
     "name": "stdout",
     "output_type": "stream",
     "text": [
      "day 1: buy 1 unit at price 13.670000, total balance 9986.330000\n",
      "day 3, sell 1 unit at price 13.890000, investment 1.609364 %, total balance 10000.220000,\n",
      "day 10: buy 1 unit at price 15.260000, total balance 9984.960000\n",
      "day 11, sell 1 unit at price 15.510000, investment 1.638270 %, total balance 10000.470000,\n",
      "day 12: buy 1 unit at price 15.140000, total balance 9985.330000\n",
      "day 13, sell 1 unit at price 15.370000, investment 1.519155 %, total balance 10000.700000,\n",
      "day 17: buy 1 unit at price 14.920000, total balance 9985.780000\n",
      "day 18, sell 1 unit at price 14.850000, investment -0.469169 %, total balance 10000.630000,\n",
      "day 22: buy 1 unit at price 14.250000, total balance 9986.380000\n",
      "day 23, sell 1 unit at price 14.300000, investment 0.350877 %, total balance 10000.680000,\n",
      "day 24: buy 1 unit at price 14.680000, total balance 9986.000000\n",
      "day 25, sell 1 unit at price 15.010000, investment 2.247956 %, total balance 10001.010000,\n",
      "day 31: buy 1 unit at price 15.290000, total balance 9985.720000\n",
      "day 32, sell 1 unit at price 15.460000, investment 1.111838 %, total balance 10001.180000,\n",
      "day 34: buy 1 unit at price 14.990000, total balance 9986.190000\n",
      "day 35, sell 1 unit at price 14.830000, investment -1.067378 %, total balance 10001.020000,\n",
      "day 38: buy 1 unit at price 15.530000, total balance 9985.490000\n",
      "day 40: buy 1 unit at price 14.920000, total balance 9970.570000\n",
      "day 42, sell 1 unit at price 15.380000, investment -0.965873 %, total balance 9985.950000,\n",
      "day 43: buy 1 unit at price 15.410000, total balance 9970.540000\n",
      "day 44, sell 1 unit at price 15.240000, investment 2.144772 %, total balance 9985.780000,\n",
      "day 46, sell 1 unit at price 15.620000, investment 1.362751 %, total balance 10001.400000,\n",
      "day 47: buy 1 unit at price 16.010000, total balance 9985.390000\n",
      "day 48: buy 1 unit at price 15.530000, total balance 9969.860000\n",
      "day 49: buy 1 unit at price 15.500000, total balance 9954.360000\n",
      "day 50, sell 1 unit at price 15.740000, investment -1.686446 %, total balance 9970.100000,\n",
      "day 51, sell 1 unit at price 15.660000, investment 0.837090 %, total balance 9985.760000,\n",
      "day 52, sell 1 unit at price 15.610000, investment 0.709677 %, total balance 10001.370000,\n",
      "day 53: buy 1 unit at price 15.660000, total balance 9985.710000\n",
      "day 54: buy 1 unit at price 16.209999, total balance 9969.500001\n",
      "day 55: buy 1 unit at price 16.219999, total balance 9953.280002\n",
      "day 56, sell 1 unit at price 15.930000, investment 1.724138 %, total balance 9969.210002,\n",
      "day 57, sell 1 unit at price 16.580000, investment 2.282548 %, total balance 9985.790002,\n",
      "day 58: buy 1 unit at price 16.590000, total balance 9969.200002\n",
      "day 59, sell 1 unit at price 16.600000, investment 2.342793 %, total balance 9985.800002,\n",
      "day 60: buy 1 unit at price 16.770000, total balance 9969.030002\n",
      "day 61, sell 1 unit at price 16.760000, investment 1.024714 %, total balance 9985.790002,\n",
      "day 62, sell 1 unit at price 16.930000, investment 0.954085 %, total balance 10002.720002,\n",
      "day 63: buy 1 unit at price 16.950001, total balance 9985.770001\n",
      "day 64, sell 1 unit at price 17.250000, investment 1.769906 %, total balance 10003.020001,\n",
      "day 67: buy 1 unit at price 17.549999, total balance 9985.470002\n",
      "day 68, sell 1 unit at price 18.590000, investment 5.925932 %, total balance 10004.060002,\n",
      "day 71: buy 1 unit at price 18.430000, total balance 9985.630002\n",
      "day 72, sell 1 unit at price 18.219999, investment -1.139452 %, total balance 10003.850001,\n",
      "day 74: buy 1 unit at price 18.120001, total balance 9985.730000\n",
      "day 75, sell 1 unit at price 18.400000, investment 1.545248 %, total balance 10004.130000,\n",
      "day 82: buy 1 unit at price 16.879999, total balance 9987.250001\n",
      "day 83: buy 1 unit at price 17.379999, total balance 9969.870002\n",
      "day 84, sell 1 unit at price 17.440001, investment 3.317548 %, total balance 9987.310003,\n",
      "day 86: buy 1 unit at price 17.590000, total balance 9969.720003\n",
      "day 88, sell 1 unit at price 17.959999, investment 3.337169 %, total balance 9987.680002,\n",
      "day 89, sell 1 unit at price 17.639999, investment 0.284247 %, total balance 10005.320001,\n",
      "day 91: buy 1 unit at price 17.830000, total balance 9987.490001\n",
      "day 92: buy 1 unit at price 18.070000, total balance 9969.420001\n",
      "day 93, sell 1 unit at price 17.750000, investment -0.448682 %, total balance 9987.170001,\n",
      "day 94: buy 1 unit at price 17.600000, total balance 9969.570001\n",
      "day 95, sell 1 unit at price 17.830000, investment -1.328168 %, total balance 9987.400001,\n",
      "day 97: buy 1 unit at price 17.610001, total balance 9969.790000\n",
      "day 98: buy 1 unit at price 17.379999, total balance 9952.410001\n",
      "day 99, sell 1 unit at price 17.680000, investment 0.454545 %, total balance 9970.090001,\n",
      "day 100, sell 1 unit at price 17.389999, investment -1.249301 %, total balance 9987.480000,\n",
      "day 101: buy 1 unit at price 17.120001, total balance 9970.359999\n",
      "day 102, sell 1 unit at price 17.660000, investment 1.611053 %, total balance 9988.019999,\n",
      "day 103, sell 1 unit at price 18.020000, investment 5.257003 %, total balance 10006.039999,\n",
      "day 105: buy 1 unit at price 18.170000, total balance 9987.869999\n",
      "day 106: buy 1 unit at price 18.280001, total balance 9969.589998\n",
      "day 108: buy 1 unit at price 18.600000, total balance 9950.989998\n",
      "day 109: buy 1 unit at price 18.680000, total balance 9932.309998\n",
      "day 110, sell 1 unit at price 19.080000, investment 5.008255 %, total balance 9951.389998,\n",
      "day 112: buy 1 unit at price 19.150000, total balance 9932.239998\n",
      "day 113: buy 1 unit at price 19.330000, total balance 9912.909998\n",
      "day 115, sell 1 unit at price 18.379999, investment 0.547035 %, total balance 9931.289997,\n",
      "day 117, sell 1 unit at price 19.070000, investment 2.526882 %, total balance 9950.359997,\n",
      "day 118, sell 1 unit at price 18.709999, investment 0.160594 %, total balance 9969.069996,\n",
      "day 119: buy 1 unit at price 18.660000, total balance 9950.409996\n",
      "day 120: buy 1 unit at price 18.459999, total balance 9931.949997\n",
      "day 122, sell 1 unit at price 18.430000, investment -3.759791 %, total balance 9950.379997,\n",
      "day 123, sell 1 unit at price 18.799999, investment -2.741857 %, total balance 9969.179996,\n",
      "day 124, sell 1 unit at price 18.719999, investment 0.321538 %, total balance 9987.899995,\n",
      "day 126: buy 1 unit at price 19.370001, total balance 9968.529994\n",
      "day 127: buy 1 unit at price 19.340000, total balance 9949.189994\n",
      "day 128: buy 1 unit at price 19.209999, total balance 9929.979995\n",
      "day 129, sell 1 unit at price 19.320000, investment 4.658727 %, total balance 9949.299995,\n",
      "day 130: buy 1 unit at price 19.540001, total balance 9929.759994\n",
      "day 131: buy 1 unit at price 19.120001, total balance 9910.639993\n",
      "day 132, sell 1 unit at price 18.410000, investment -4.956123 %, total balance 9929.049993,\n",
      "day 133: buy 1 unit at price 17.309999, total balance 9911.739994\n",
      "day 135, sell 1 unit at price 18.180000, investment -5.997932 %, total balance 9929.919994,\n",
      "day 136, sell 1 unit at price 18.260000, investment -4.945336 %, total balance 9948.179994,\n",
      "day 137: buy 1 unit at price 18.030001, total balance 9930.149993\n",
      "day 139: buy 1 unit at price 17.850000, total balance 9912.299993\n",
      "day 141, sell 1 unit at price 18.010000, investment -7.830097 %, total balance 9930.309993,\n",
      "day 142, sell 1 unit at price 18.110001, investment -5.282427 %, total balance 9948.419994,\n",
      "day 143: buy 1 unit at price 18.230000, total balance 9930.189994\n",
      "day 144, sell 1 unit at price 18.459999, investment 6.643559 %, total balance 9948.649993,\n",
      "day 145, sell 1 unit at price 18.080000, investment 0.277310 %, total balance 9966.729993,\n",
      "day 146, sell 1 unit at price 18.200001, investment 1.960790 %, total balance 9984.929994,\n",
      "day 148: buy 1 unit at price 18.290001, total balance 9966.639993\n",
      "day 149, sell 1 unit at price 18.600000, investment 2.029622 %, total balance 9985.239993,\n",
      "day 150, sell 1 unit at price 18.379999, investment 0.492061 %, total balance 10003.619992,\n",
      "day 152: buy 1 unit at price 18.190001, total balance 9985.429991\n",
      "day 154, sell 1 unit at price 17.879999, investment -1.704244 %, total balance 10003.309990,\n",
      "day 160: buy 1 unit at price 18.719999, total balance 9984.589991\n",
      "day 161, sell 1 unit at price 18.670000, investment -0.267089 %, total balance 10003.259991,\n",
      "day 166: buy 1 unit at price 19.270000, total balance 9983.989991\n",
      "day 167, sell 1 unit at price 19.290001, investment 0.103793 %, total balance 10003.279992,\n",
      "day 169: buy 1 unit at price 19.290001, total balance 9983.989991\n",
      "day 170, sell 1 unit at price 19.400000, investment 0.570238 %, total balance 10003.389991,\n",
      "day 172: buy 1 unit at price 19.660000, total balance 9983.729991\n",
      "day 173: buy 1 unit at price 19.889999, total balance 9963.839992\n",
      "day 174, sell 1 unit at price 20.540001, investment 4.476099 %, total balance 9984.379993,\n",
      "day 175, sell 1 unit at price 20.450001, investment 2.815495 %, total balance 10004.829994,\n",
      "day 177: buy 1 unit at price 20.379999, total balance 9984.449995\n",
      "day 178: buy 1 unit at price 20.670000, total balance 9963.779995\n",
      "day 179, sell 1 unit at price 20.190001, investment -0.932277 %, total balance 9983.969996,\n"
     ]
    },
    {
     "name": "stdout",
     "output_type": "stream",
     "text": [
      "day 183, sell 1 unit at price 21.190001, investment 2.515728 %, total balance 10005.159997,\n",
      "day 186: buy 1 unit at price 21.450001, total balance 9983.709996\n",
      "day 187: buy 1 unit at price 21.190001, total balance 9962.519995\n",
      "day 188, sell 1 unit at price 20.959999, investment -2.284392 %, total balance 9983.479994,\n",
      "day 189, sell 1 unit at price 21.070000, investment -0.566310 %, total balance 10004.549994,\n",
      "day 191: buy 1 unit at price 21.180000, total balance 9983.369994\n",
      "day 192: buy 1 unit at price 20.950001, total balance 9962.419993\n",
      "day 193, sell 1 unit at price 21.340000, investment 0.755430 %, total balance 9983.759993,\n",
      "day 194: buy 1 unit at price 21.049999, total balance 9962.709994\n",
      "day 195, sell 1 unit at price 21.049999, investment 0.477317 %, total balance 9983.759993,\n",
      "day 196, sell 1 unit at price 21.389999, investment 1.615202 %, total balance 10005.149992,\n",
      "day 197: buy 1 unit at price 21.129999, total balance 9984.019993\n",
      "day 198: buy 1 unit at price 20.860001, total balance 9963.159992\n",
      "day 199, sell 1 unit at price 20.639999, investment -2.318978 %, total balance 9983.799991,\n",
      "day 200, sell 1 unit at price 20.940001, investment 0.383509 %, total balance 10004.739992,\n",
      "day 203: buy 1 unit at price 21.730000, total balance 9983.009992\n",
      "day 204: buy 1 unit at price 21.709999, total balance 9961.299993\n",
      "day 205, sell 1 unit at price 21.709999, investment -0.092043 %, total balance 9983.009992,\n",
      "day 207: buy 1 unit at price 21.920000, total balance 9961.089992\n",
      "day 208, sell 1 unit at price 22.120001, investment 1.888540 %, total balance 9983.209993,\n",
      "day 209: buy 1 unit at price 22.270000, total balance 9960.939993\n",
      "day 210: buy 1 unit at price 22.879999, total balance 9938.059994\n",
      "day 211, sell 1 unit at price 22.639999, investment 3.284667 %, total balance 9960.699993,\n",
      "day 212, sell 1 unit at price 22.580000, investment 1.392007 %, total balance 9983.279993,\n",
      "day 213: buy 1 unit at price 22.809999, total balance 9960.469994\n",
      "day 214: buy 1 unit at price 22.879999, total balance 9937.589995\n",
      "day 215, sell 1 unit at price 22.780001, investment -0.437054 %, total balance 9960.369996,\n",
      "day 216, sell 1 unit at price 22.990000, investment 0.789132 %, total balance 9983.359996,\n",
      "day 218, sell 1 unit at price 23.629999, investment 3.277972 %, total balance 10006.989995,\n",
      "day 219: buy 1 unit at price 23.400000, total balance 9983.589995\n",
      "day 220: buy 1 unit at price 23.559999, total balance 9960.029996\n",
      "day 221: buy 1 unit at price 23.480000, total balance 9936.549996\n",
      "day 222, sell 1 unit at price 23.549999, investment 0.641021 %, total balance 9960.099995,\n",
      "day 223: buy 1 unit at price 23.879999, total balance 9936.219996\n",
      "day 225, sell 1 unit at price 23.879999, investment 1.358234 %, total balance 9960.099995,\n",
      "day 226: buy 1 unit at price 23.980000, total balance 9936.119995\n",
      "day 227: buy 1 unit at price 23.660000, total balance 9912.459995\n",
      "day 228, sell 1 unit at price 23.730000, investment 1.064736 %, total balance 9936.189995,\n",
      "day 229, sell 1 unit at price 23.719999, investment -0.670017 %, total balance 9959.909994,\n",
      "day 230: buy 1 unit at price 23.820000, total balance 9936.089994\n",
      "day 231: buy 1 unit at price 23.549999, total balance 9912.539995\n",
      "day 232, sell 1 unit at price 23.700001, investment -1.167636 %, total balance 9936.239996,\n",
      "day 233, sell 1 unit at price 24.030001, investment 1.563825 %, total balance 9960.269997,\n",
      "day 234: buy 1 unit at price 23.430000, total balance 9936.839997\n",
      "day 235: buy 1 unit at price 23.190001, total balance 9913.649996\n",
      "day 236, sell 1 unit at price 22.930000, investment -3.736356 %, total balance 9936.579996,\n",
      "day 237, sell 1 unit at price 22.990000, investment -2.377915 %, total balance 9959.569996,\n",
      "day 238, sell 1 unit at price 22.959999, investment -2.005980 %, total balance 9982.529995,\n",
      "day 239, sell 1 unit at price 23.010000, investment -0.776201 %, total balance 10005.539995,\n"
     ]
    }
   ],
   "source": [
    "states_buy, states_sell, total_gains, invest = agent.buy(initial_money = initial_money)"
   ]
  },
  {
   "cell_type": "markdown",
   "metadata": {
    "id": "8xqalnDGnyTL"
   },
   "source": [
    "# Plot the calls"
   ]
  },
  {
   "cell_type": "code",
   "execution_count": 11,
   "metadata": {
    "colab": {
     "base_uri": "https://localhost:8080/",
     "height": 339
    },
    "id": "itEAoeGem1OS",
    "outputId": "00508aed-a913-4b54-b2dd-517b2a80b623"
   },
   "outputs": [
    {
     "data": {
      "image/png": "[encoded data removed]",
      "text/plain": [
       "<Figure size 1080x360 with 1 Axes>"
      ]
     },
     "metadata": {},
     "output_type": "display_data"
    }
   ],
   "source": [
    "fig = plt.figure(figsize = (15,5))\n",
    "plt.plot(close, color='r', lw=2.)\n",
    "plt.plot(close, '^', markersize=10, color='m', label = 'buying signal', markevery = states_buy)\n",
    "plt.plot(close, 'v', markersize=10, color='k', label = 'selling signal', markevery = states_sell)\n",
    "plt.title('total gains %f, total investment %f%%'%(total_gains, invest))\n",
    "plt.legend()\n",
    "# plt.savefig(name+'.png')\n",
    "plt.show()"
   ]
  }
 ],
 "metadata": {
  "colab": {
   "name": "Stock prediction using RL.ipynb",
   "provenance": []
  },
  "kernelspec": {
   "display_name": "Python 3 (ipykernel)",
   "language": "python",
   "name": "python3"
  },
  "language_info": {
   "codemirror_mode": {
    "name": "ipython",
    "version": 3
   },
   "file_extension": ".py",
   "mimetype": "text/x-python",
   "name": "python",
   "nbconvert_exporter": "python",
   "pygments_lexer": "ipython3",
   "version": "3.8.5"
  }
 },
 "nbformat": 4,
 "nbformat_minor": 1
}
